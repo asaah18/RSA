{
 "cells": [
  {
   "cell_type": "code",
   "execution_count": 282,
   "metadata": {},
   "outputs": [
    {
     "name": "stdout",
     "output_type": "stream",
     "text": [
      "TextAscii\n",
      "65\n",
      "98\n",
      "100\n",
      "117\n",
      "108\n",
      "108\n",
      "97\n",
      "104\n",
      "32\n",
      "65\n",
      "108\n",
      "115\n",
      "117\n",
      "108\n",
      "109\n",
      "105\n",
      "TextBin\n",
      "01000001\n",
      "01100010\n",
      "01100100\n",
      "01110101\n",
      "01101100\n",
      "01101100\n",
      "01100001\n",
      "01101000\n",
      "00100000\n",
      "01000001\n",
      "01101100\n",
      "01110011\n",
      "01110101\n",
      "01101100\n",
      "01101101\n",
      "01101001\n",
      "00000000\n",
      "b is \n",
      "0000000001000001011000100110010001110101011011000110110001100001011010000010000001000001011011000111001101110101011011000110110101101001\n",
      "D\n",
      "0000000001000001011000100110010001110101011011000110110001100001011010000010000001000001011011000111001101110101011011000110110101101001\n",
      "86910702362366729221871468248627441001\n"
     ]
    }
   ],
   "source": [
    "file = open(\"encryption.txt\", \"r\")\n",
    "TextPlain = file.read()\n",
    "TextAscii =[]\n",
    "TextBin =[]\n",
    "i=0\n",
    "Temp=0\n",
    "\n",
    "\n",
    "while i < len(TextPlain):\n",
    "    TextAscii.append(ord(TextPlain[i]))\n",
    "    i=i+1\n",
    "\n",
    "print(\"TextAscii\")    \n",
    "i = 0\n",
    "while i < len(TextAscii):\n",
    "    print(TextAscii[i])\n",
    "    i=i+1\n",
    "\n",
    "    \n",
    "print(\"TextBin\")  \n",
    "i = 0\n",
    "while i < len(TextAscii):    \n",
    "    Temp=f'{TextAscii[i]:08b}'\n",
    "    TextBin.append(Temp)\n",
    "    i=i+1\n",
    "    \n",
    "i = 0\n",
    "while i < len(TextBin):\n",
    "    print(TextBin[i])\n",
    "    i=i+1\n",
    "    \n",
    "\n",
    "b=(format(0,'08b'))\n",
    "print(b)\n",
    "i = 0\n",
    "\n",
    "while i < len(TextBin):\n",
    "    Temp=TextBin[i]\n",
    "    b=b+Temp\n",
    "    i=i+1\n",
    "\n",
    "print(\"b is \")\n",
    "print(b)\n",
    "\n",
    "print(\"D\")\n",
    "bin_b = b\n",
    "print(bin_b)\n",
    "print(int(bin_b, 2))\n",
    "\n",
    "\n",
    "\n",
    "file.close()\n",
    "\n"
   ]
  },
  {
   "cell_type": "code",
   "execution_count": 247,
   "metadata": {},
   "outputs": [
    {
     "name": "stdout",
     "output_type": "stream",
     "text": [
      "10100000\n"
     ]
    }
   ],
   "source": [
    "TextBin2 =f'{160:08b}'\n",
    "print(TextBin2)\n"
   ]
  },
  {
   "cell_type": "code",
   "execution_count": null,
   "metadata": {},
   "outputs": [],
   "source": []
  },
  {
   "cell_type": "code",
   "execution_count": null,
   "metadata": {},
   "outputs": [],
   "source": []
  }
 ],
 "metadata": {
  "kernelspec": {
   "display_name": "Python 3",
   "language": "python",
   "name": "python3"
  },
  "language_info": {
   "codemirror_mode": {
    "name": "ipython",
    "version": 3
   },
   "file_extension": ".py",
   "mimetype": "text/x-python",
   "name": "python",
   "nbconvert_exporter": "python",
   "pygments_lexer": "ipython3",
   "version": "3.7.1"
  }
 },
 "nbformat": 4,
 "nbformat_minor": 2
}
